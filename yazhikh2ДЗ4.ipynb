{
 "cells": [
  {
   "cell_type": "markdown",
   "metadata": {},
   "source": [
    "### Большая часть задач требует операций с файлами, поэтому для воспроизводимости результатов работы вашего кода эти файлы нужно создавать\n",
    "\n",
    "### Можете их всех создавать в текущей папке, быстро и удобно это можно сделать таким способом:"
   ]
  },
  {
   "cell_type": "code",
   "execution_count": 1,
   "metadata": {
    "collapsed": false
   },
   "outputs": [],
   "source": [
    "text = \"\"\"123\n",
    "4567\n",
    " 8910\n",
    "\"\"\"\n",
    "with open('task_1.1_source', 'w') as f:\n",
    "    f.write(text)"
   ]
  },
  {
   "cell_type": "code",
   "execution_count": 2,
   "metadata": {
    "collapsed": false
   },
   "outputs": [
    {
     "name": "stdout",
     "output_type": "stream",
     "text": [
      "123\n",
      "4567\n",
      " 8910\n"
     ]
    }
   ],
   "source": [
    "!type task_1.1_source"
   ]
  },
  {
   "cell_type": "markdown",
   "metadata": {},
   "source": [
    "# Базовый уровень"
   ]
  },
  {
   "cell_type": "markdown",
   "metadata": {},
   "source": [
    "## Задание 1.1\n",
    "\n",
    "Напишите функцию, копирующую файл\n",
    "\n",
    "source_path должен существовать, а отсутствующие промежуточные папки из target_path должны быть созданы\n",
    "\n",
    "Подсказка: можно прочитать исходный файл и записать в новый. \n",
    "\n",
    "Опциональное усложнение: попробуйте написать так, чтобы функция работала и с большими файлами (нужно, чтобы содежимое файла не считывалось полностью в память)"
   ]
  },
  {
   "cell_type": "code",
   "execution_count": 3,
   "metadata": {
    "collapsed": true
   },
   "outputs": [],
   "source": [
    "import shutil\n",
    "import os\n",
    "def copy_file(source_path, target_path):\n",
    "    # Допишите код\n",
    "    if not os.path.exists(target_path):\n",
    "        os.makedirs(target_path)\n",
    "    shutil.copy(source_path, target_path)\n",
    "    return"
   ]
  },
  {
   "cell_type": "code",
   "execution_count": 4,
   "metadata": {
    "collapsed": false,
    "scrolled": true
   },
   "outputs": [],
   "source": [
    "copy_file('task_1.1_source', 'tmp_dir')"
   ]
  },
  {
   "cell_type": "markdown",
   "metadata": {},
   "source": [
    "## Задание 1.2\n",
    "\n",
    "##### В файле source_path находится англо-латинский словарь, то есть список слов на английском языке и их переводы на латинский язык (переводов может быть несколько). Необходимо создать из него латино-английский словарь по пути target_path. Например, из словаря\n",
    "\n",
    "\n",
    "\n",
    "apple - malum, pomum, popula\n",
    "\n",
    "fruit - baca, bacca, popum\n",
    "\n",
    "punishment - malum, multa\n",
    "\n",
    "\n",
    "\n",
    "##### нужно сделать словарь.\n",
    "\n",
    "baca - fruit\n",
    "\n",
    "bacca - fruit\n",
    "\n",
    "malum - apple, punishment\n",
    "\n",
    "multa - punishment\n",
    "\n",
    "pomum - apple\n",
    "\n",
    "popula - apple\n",
    "\n",
    "popum - fruit\n",
    "\n",
    "##### Не забудьте, что слова нужно расположить в алфавитном порядке.\n",
    "##### Будет полезна функция strip у строки для удаления пробелов\n"
   ]
  },
  {
   "cell_type": "code",
   "execution_count": 5,
   "metadata": {
    "collapsed": true
   },
   "outputs": [],
   "source": [
    "text = \"\"\"apple - malum, pomum, popula\n",
    "fruit - baca, bacca, popum\n",
    "punishment - malum, multa\n",
    "\"\"\"\n",
    "with open('task_1.2_source', 'w') as f:\n",
    "    f.write(text)"
   ]
  },
  {
   "cell_type": "code",
   "execution_count": 6,
   "metadata": {
    "collapsed": true
   },
   "outputs": [],
   "source": [
    "import re\n",
    "def eng_lat_2_lat_eng(source_path, target_path):\n",
    "    # Допишите код\n",
    "    lat_dict = dict()\n",
    "    with open(source_path, 'r') as inputf:\n",
    "        for line in inputf.xreadlines():            \n",
    "            strr = re.split('[-,]', ''.join(line.split()))            \n",
    "            for i in range(1, len(strr)):                \n",
    "                lat_dict.setdefault(strr[i], []).append(strr[0])\n",
    "    with open(target_path, 'w') as outputf:\n",
    "        for item in sorted(lat_dict.items()):            \n",
    "            outputf.write (item[0] + ' - ' + ', '.join(item[1]) + '\\n')\n",
    "    return"
   ]
  },
  {
   "cell_type": "code",
   "execution_count": 7,
   "metadata": {
    "collapsed": true
   },
   "outputs": [],
   "source": [
    "eng_lat_2_lat_eng('task_1.2_source','task_1.2_result')"
   ]
  },
  {
   "cell_type": "code",
   "execution_count": 8,
   "metadata": {
    "collapsed": false
   },
   "outputs": [
    {
     "name": "stdout",
     "output_type": "stream",
     "text": [
      "baca - fruit\n",
      "bacca - fruit\n",
      "malum - apple, punishment\n",
      "multa - punishment\n",
      "pomum - apple\n",
      "popula - apple\n",
      "popum - fruit\n"
     ]
    }
   ],
   "source": [
    "!type task_1.2_result"
   ]
  },
  {
   "cell_type": "markdown",
   "metadata": {},
   "source": [
    "## Задание 1.3\n",
    "\n",
    "Напишите функцию, вычисляющую длину русского слова, независимо от его кодировки\n",
    "\n",
    "Если параметр encoding задан, то нужно декодировать текст при помощи этой кодировки. А если он не задан, то кодировку надо определить самостоятельно.\n",
    "\n",
    "##### Если кодировка не задана, то точное решение здесь написать не получится. Но можно воспользоваться функцией my_decoder из лекции"
   ]
  },
  {
   "cell_type": "code",
   "execution_count": 9,
   "metadata": {
    "collapsed": true
   },
   "outputs": [],
   "source": [
    "import chardet"
   ]
  },
  {
   "cell_type": "code",
   "execution_count": 10,
   "metadata": {
    "collapsed": true
   },
   "outputs": [],
   "source": [
    "def my_decoder(val):\n",
    "    if type(val) is unicode:\n",
    "        return val\n",
    "    else:\n",
    "        return unicode(val, encoding=chardet.detect(val)['encoding'])"
   ]
  },
  {
   "cell_type": "code",
   "execution_count": 11,
   "metadata": {
    "collapsed": true
   },
   "outputs": [],
   "source": [
    "def my_len(word, encoding=None):\n",
    "    # Допишите код\n",
    "    if encoding == None:\n",
    "        length = len(my_decoder(word))\n",
    "    else:\n",
    "        length = len(unicode(word, encoding))\n",
    "    return length"
   ]
  },
  {
   "cell_type": "code",
   "execution_count": 12,
   "metadata": {
    "collapsed": false
   },
   "outputs": [
    {
     "data": {
      "text/plain": [
       "True"
      ]
     },
     "execution_count": 12,
     "metadata": {},
     "output_type": "execute_result"
    }
   ],
   "source": [
    "my_len('текст') == 5"
   ]
  },
  {
   "cell_type": "code",
   "execution_count": 13,
   "metadata": {
    "collapsed": false
   },
   "outputs": [
    {
     "data": {
      "text/plain": [
       "True"
      ]
     },
     "execution_count": 13,
     "metadata": {},
     "output_type": "execute_result"
    }
   ],
   "source": [
    "my_len(u'текст') == 5"
   ]
  },
  {
   "cell_type": "code",
   "execution_count": 14,
   "metadata": {
    "collapsed": false
   },
   "outputs": [
    {
     "data": {
      "text/plain": [
       "True"
      ]
     },
     "execution_count": 14,
     "metadata": {},
     "output_type": "execute_result"
    }
   ],
   "source": [
    "my_len(u'ааааа'.encode('utf_16'), encoding='utf_16') == 5"
   ]
  },
  {
   "cell_type": "code",
   "execution_count": 15,
   "metadata": {
    "collapsed": false
   },
   "outputs": [
    {
     "data": {
      "text/plain": [
       "True"
      ]
     },
     "execution_count": 15,
     "metadata": {},
     "output_type": "execute_result"
    }
   ],
   "source": [
    "my_len(u'текст'.encode('windows-1251')) == 5"
   ]
  },
  {
   "cell_type": "markdown",
   "metadata": {},
   "source": [
    "# Продвинутый уровень"
   ]
  },
  {
   "cell_type": "markdown",
   "metadata": {},
   "source": [
    "## Задание 2.1\n",
    "\n",
    "Напишите функцию, которая выписывает список файлов в данной директории и сортирует их в соответствии с их размером. Функция должна получать путь к директории в качестве аргумента и печатать на экран имена всех файлов в ней и их размеры, причем первыми должны идти файлы с наибольшими размерами, а в случае одинакового размер файлы сортируются по алфавиту.\n",
    "\n",
    "##### Указание. Изучите функции listdir и stat из модуля os и функции isfile и join из модуля os.path.\n"
   ]
  },
  {
   "cell_type": "code",
   "execution_count": null,
   "metadata": {
    "collapsed": false
   },
   "outputs": [],
   "source": [
    "def get_dir_content_info(dir_path):\n",
    "    # Допишите код\n",
    "    return"
   ]
  },
  {
   "cell_type": "markdown",
   "metadata": {},
   "source": [
    "## Задание 2.2\n",
    "\n",
    "Аналогично 1.2, но только теперь англо-русский в русско-английский словарь. Дополнительно теперь будет ещё параметр encoding для кодировки файлов. Если он None, то нужно самостоятельно определить кодировку файла.\n",
    "\n",
    "##### Решение будет почти дублировать 1.2, но сначала текст нужно привести в unicode"
   ]
  },
  {
   "cell_type": "code",
   "execution_count": null,
   "metadata": {
    "collapsed": true
   },
   "outputs": [],
   "source": [
    "def eng_rus_2_rus_eng(source_path, target_path, encoding=None):\n",
    "    # Допишите код\n",
    "    return"
   ]
  },
  {
   "cell_type": "markdown",
   "metadata": {},
   "source": [
    "# Сложный уровень"
   ]
  },
  {
   "cell_type": "markdown",
   "metadata": {},
   "source": [
    "## Задание 3.1\n",
    "\n",
    "Существует исследование, говорящее о том, что в словах текста можно произвольно переставить буквы (не затрагивая первую и последнюю), и от этого читабельность текста практически не ухудшится. Напишите функцию для проверки этого факта. Ваша функция должна получать на вход какой-нибудь текст (может быть и на русском языке) и переставлять буквы в его словах случайным образом. \n",
    "\n",
    "Если seed None, то буквы переставляются не случайным образом, а сортируются по алфавиту (латинские символы считаем меньше кириллических). Если seed не None, то нужно использовать это seed при инициализации рандома. Сравните результаты.\n",
    "\n",
    "##### будем считать, что текст это последовательность кириллических и латинских символов разделённая пробелом\n",
    "##### вам потребуется модуль random и функции random.seed и random.shuffle\n",
    "##### проверьте результат работы на не юникодовских строчках и объясните результат"
   ]
  },
  {
   "cell_type": "code",
   "execution_count": null,
   "metadata": {
    "collapsed": true
   },
   "outputs": [],
   "source": [
    "def text_shuffle(text, seed=None):\n",
    "    # Допишите код\n",
    "    return"
   ]
  },
  {
   "cell_type": "markdown",
   "metadata": {},
   "source": [
    "## Задание 3.2\n",
    "\n",
    "Напишите функцию, которая читает два файла построчно (то есть не загружая всё содержимое в память), и записывает в выходной файл результат лексиграфического сравнение срочки из первого файла и из второго (First, Second и Equal по аналогии c предыдущим ДЗ)."
   ]
  },
  {
   "cell_type": "code",
   "execution_count": null,
   "metadata": {
    "collapsed": true
   },
   "outputs": [],
   "source": [
    "def process(fst_source_path, snd_source_path, target_path):\n",
    "    # Допишите код\n",
    "    return"
   ]
  },
  {
   "cell_type": "code",
   "execution_count": null,
   "metadata": {
    "collapsed": true
   },
   "outputs": [],
   "source": []
  }
 ],
 "metadata": {
  "anaconda-cloud": {},
  "kernelspec": {
   "display_name": "Python 2",
   "language": "python",
   "name": "python2"
  },
  "language_info": {
   "codemirror_mode": {
    "name": "ipython",
    "version": 2
   },
   "file_extension": ".py",
   "mimetype": "text/x-python",
   "name": "python",
   "nbconvert_exporter": "python",
   "pygments_lexer": "ipython2",
   "version": "2.7.13"
  }
 },
 "nbformat": 4,
 "nbformat_minor": 2
}
